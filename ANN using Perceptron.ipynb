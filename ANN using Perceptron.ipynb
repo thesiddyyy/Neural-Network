{
 "cells": [
  {
   "cell_type": "code",
   "execution_count": 1,
   "id": "4ec62e4f",
   "metadata": {},
   "outputs": [],
   "source": [
    "import numpy as np"
   ]
  },
  {
   "cell_type": "code",
   "execution_count": 7,
   "id": "f92c1134",
   "metadata": {},
   "outputs": [],
   "source": [
    "weights = np.random.randn(2) \n",
    "bias = np.random.randn() \n",
    "learning_rate = 0.1\n",
    "\n",
    "x = np.array([[0.1, 0.1], [0.6, 0.6], [0.7, 0.4], [0.9, 0.8], [0.3, 0.7]])\n",
    "y = np.array([[0], [1], [0], [1], [0]])\n",
    "\n",
    "def step_function(x):\n",
    "    \"\"\"Perceptron step function for binary classification (0 or 1)\"\"\"\n",
    "    return 1 if x >= 0 else 0\n",
    "\n",
    "for epoch in range(epochs):\n",
    "    for i in range(len(x)):\n",
    "        sum_of_weight = np.dot(weights, x[i]) + bias\n",
    "        \n",
    "        prediction = step_function(sum_of_weight)\n",
    "        error = y[i] - prediction\n",
    "        weights += learning_rate * error * x[i]\n",
    "        bias += learning_rate * error"
   ]
  },
  {
   "cell_type": "code",
   "execution_count": 8,
   "id": "08eced56",
   "metadata": {},
   "outputs": [
    {
     "name": "stdout",
     "output_type": "stream",
     "text": [
      "Final weights: [1.14561086 0.97658911]\n",
      "Final bias: [-1.27273006]\n"
     ]
    }
   ],
   "source": [
    "print(\"Final weights:\", weights)\n",
    "print(\"Final bias:\",bias)"
   ]
  },
  {
   "cell_type": "code",
   "execution_count": 9,
   "id": "0da302c0",
   "metadata": {},
   "outputs": [],
   "source": [
    "weights = np.random.randn(2) \n",
    "bias = np.random.randn() \n",
    "learning_rate = 0.5\n",
    "epochs = 200\n",
    "\n",
    "x = np.array([[0.1, 0.1], [0.6, 0.6], [0.7, 0.4], [0.9, 0.8], [0.3, 0.7]])\n",
    "y = np.array([[0], [1], [0], [1], [0]])\n",
    "\n",
    "def step_function(x):\n",
    "    \"\"\"Perceptron step function for binary classification (0 or 1)\"\"\"\n",
    "    return 1 if x >= 0 else 0\n",
    "\n",
    "for epoch in range(epochs):\n",
    "    for i in range(len(x)):\n",
    "        sum_of_weight = np.dot(weights, x[i]) + bias\n",
    "        \n",
    "        prediction = step_function(sum_of_weight)\n",
    "        error = y[i] - prediction\n",
    "        weights += learning_rate * error * x[i]\n",
    "        bias += learning_rate * error"
   ]
  },
  {
   "cell_type": "code",
   "execution_count": 10,
   "id": "5497b51e",
   "metadata": {},
   "outputs": [
    {
     "name": "stdout",
     "output_type": "stream",
     "text": [
      "Final weights: [0.84344688 1.01722711]\n",
      "Final bias: [-1.1110963]\n"
     ]
    }
   ],
   "source": [
    "print(\"Final weights:\", weights)\n",
    "print(\"Final bias:\",bias)"
   ]
  },
  {
   "cell_type": "code",
   "execution_count": null,
   "id": "313a5ebc",
   "metadata": {},
   "outputs": [],
   "source": []
  }
 ],
 "metadata": {
  "kernelspec": {
   "display_name": "Python 3 (ipykernel)",
   "language": "python",
   "name": "python3"
  },
  "language_info": {
   "codemirror_mode": {
    "name": "ipython",
    "version": 3
   },
   "file_extension": ".py",
   "mimetype": "text/x-python",
   "name": "python",
   "nbconvert_exporter": "python",
   "pygments_lexer": "ipython3",
   "version": "3.11.4"
  }
 },
 "nbformat": 4,
 "nbformat_minor": 5
}
